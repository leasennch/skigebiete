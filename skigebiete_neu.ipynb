{
 "cells": [
  {
   "cell_type": "markdown",
   "metadata": {},
   "source": [
    "## Skigebiete scrapen"
   ]
  },
  {
   "cell_type": "code",
   "execution_count": 3,
   "metadata": {},
   "outputs": [],
   "source": [
    "# Libraries laden\n",
    "import requests\n",
    "from bs4 import BeautifulSoup\n",
    "import pandas as pd\n",
    "import datetime"
   ]
  },
  {
   "cell_type": "markdown",
   "metadata": {},
   "source": [
    "Einzelne Seiten zu Skigebieten absaugen, Öffnungszeiten abspeichern, bzw. Fehler loggen"
   ]
  },
  {
   "cell_type": "code",
   "execution_count": 60,
   "metadata": {},
   "outputs": [
    {
     "name": "stdout",
     "output_type": "stream",
     "text": [
      "/sedrun/\n",
      "/arosa-lenzerheide/\n",
      "/corvatsch-furtschellas/\n",
      "/davos-jakobshorn/\n",
      "/davos-parsenn/\n",
      "/laax/\n",
      "/pizmundaun/\n",
      "/samnaun/\n",
      "/scuol/\n",
      "/st-moritz-corviglia/\n",
      "/aletsch-arena/\n",
      "/anzere/\n",
      "/belalp/\n",
      "/champery/\n",
      "/crans-montana/\n",
      "/graechen/\n",
      "/grimentz-zinal/\n",
      "/morgins/\n",
      "/nendaz-4-vallees/\n",
      "/portes-du-soleil/\n",
      "/saas-fee/\n",
      "/funiluc/\n",
      "/thyon-4-vallees/\n",
      "/valdilliez-lescrosets-champoussin/\n",
      "/verbier/\n",
      "/vercorin/\n",
      "/veysonnaz-4-vallees/\n",
      "/zermatt/\n",
      "/adelboden/\n",
      "/gstaad/\n",
      "/gstaad-saanen-rougemont/\n",
      "/schoenried-saanenmoeser-zweisimmen-st-stephan/\n",
      "/jungfrau-grindelwald-wengen/\n",
      "/muerren-schilthorn/\n",
      "/lenk/\n",
      "/meiringen-hasliberg/\n",
      "/andermatt-gemsstock-naetschen/\n",
      "/engelberg/\n",
      "/ybrig/\n",
      "/klewenalp/\n",
      "/melchsee-frutt/\n",
      "/mythenregion/\n",
      "/soerenberg/\n",
      "/flumserberg/\n",
      "/pizol/\n",
      "/toggenburg/\n",
      "/fribourg-region/\n",
      "/les-paccots-chatel-saint-denis/\n",
      "/espace-dole-les-tuffes/\n",
      "/les-diablerets/\n",
      "/diablerets/\n",
      "/leysin-mosses-lecherette/\n",
      "/vallee-de-joux/\n",
      "/villars/\n"
     ]
    }
   ],
   "source": [
    "path = \"/Users/leasenn/Google Drive/CAS Datenjournalismus/skigebiete/\"\n",
    "linkliste = []\n",
    "df_skigebiete = pd.read_csv(path+\"skigebiete_linkliste.csv\") # Bereits kreierte Liste von Skigebieten verwenden\n",
    "linkliste = df_skigebiete[\"skigebiete\"].values.tolist()\n",
    "\n",
    "skigebiete_final = []\n",
    "errors = []\n",
    "now = datetime.datetime.now()\n",
    "zeitstempel = now.strftime(\"%Y-%m-%d_%H-%M\")\n",
    "\n",
    "for gebiet_link in linkliste:\n",
    "    print(gebiet_link)\n",
    "    website = requests.get(\"https://www.bergfex.ch\"+gebiet_link).text\n",
    "    soup = BeautifulSoup(website, \"html.parser\")\n",
    "    try:\n",
    "        # Live-Angaben auslesen\n",
    "        infoboxes = soup.find_all('div', class_=\"snow-value\")\n",
    "        \n",
    "        # Schneehöhe\n",
    "        schneehoehe_berg = infoboxes[1].text.replace(\"cm\", \"\").strip()\n",
    "        schneehoehe_tal = infoboxes[2].text.replace(\"cm\", \"\").strip()\n",
    "        \n",
    "        # Anlagen\n",
    "        offene_anlagen = infoboxes[3].text.split(\" von \") # Auslesen im Format \"12 von 24\" (offene Lifte sind immer das letzte TD, deshalb -1)\n",
    "        total = offene_anlagen[1].strip()\n",
    "        offen = offene_anlagen[0].strip()\n",
    "            \n",
    "        # Aktualisierungsdatum\n",
    "        datum = infoboxes[0]\n",
    "        # Zeitquelle angeben und formatieren, für \"Heute\" und \"Gestern\" richtiges Datum einsetzen...\n",
    "        aktualisiertam = datum.text.replace(\"Heute\", now.strftime(\"%d.%m.%Y\")).replace(\"Gestern\", (now-datetime.timedelta(days=1)).strftime(\"%d.%m.%Y\")).strip()\n",
    "        # bzw. für \"Mo\", \"Di\" und Co. Buchstaben rausnehmen und Jahreszahl anhängen\n",
    "        tage = [\"Mo\", \"Di\", \"Mi\", \"Do\", \"Fr\", \"Sa\", \"So\"]\n",
    "        for tag in tage:\n",
    "            if(tag in aktualisiertam):\n",
    "                teile_datum = aktualisiertam.replace(tag,\"\").split(\", \")\n",
    "                aktualisiertam = teile_datum[1]+now.strftime(\"%Y\")+\", \"+teile_datum[2]  \n",
    "\n",
    "        aktualisiertam = datetime.datetime.strptime(aktualisiertam, \"%d.%m.%Y, %H:%M\").strftime(\"%Y-%m-%d_%H-%M\")\n",
    "\n",
    "        # Alles ins Dict schreiben\n",
    "        skigebiete_final.append({\"zeit_scraping\": zeitstempel, \"zeit_siteaktualisiert\": aktualisiertam, \"titel\": gebiet_link, \"totallifte\": total, \"offen\": offen, \"schneehoehe_berg\":schneehoehe_berg, \"schneehoehe_tal\": schneehoehe_tal})\n",
    "    except:\n",
    "        errors.append({\"status\": \"failed\", \"gebiet\": gebiet_link, \"zeitstempel\" : zeitstempel})\n"
   ]
  },
  {
   "cell_type": "markdown",
   "metadata": {},
   "source": [
    "Alles abspeichern"
   ]
  },
  {
   "cell_type": "code",
   "execution_count": 62,
   "metadata": {},
   "outputs": [],
   "source": [
    "pd.DataFrame(skigebiete_final).to_csv(path+'skigebiete_oeffnungszeiten/oeffnungszeiten_'+zeitstempel+\".csv\")\n",
    "pd.DataFrame(errors).to_csv(path+'skigebiete_oeffnungszeiten/errors_'+zeitstempel+\".csv\")"
   ]
  },
  {
   "cell_type": "code",
   "execution_count": null,
   "metadata": {},
   "outputs": [],
   "source": []
  }
 ],
 "metadata": {
  "kernelspec": {
   "display_name": "Python 3",
   "language": "python",
   "name": "python3"
  },
  "language_info": {
   "codemirror_mode": {
    "name": "ipython",
    "version": 3
   },
   "file_extension": ".py",
   "mimetype": "text/x-python",
   "name": "python",
   "nbconvert_exporter": "python",
   "pygments_lexer": "ipython3",
   "version": "3.7.0"
  }
 },
 "nbformat": 4,
 "nbformat_minor": 2
}
