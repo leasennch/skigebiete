{
 "cells": [
  {
   "cell_type": "markdown",
   "metadata": {},
   "source": [
    "## Skigebiete scrapen"
   ]
  },
  {
   "cell_type": "code",
   "execution_count": 3,
   "metadata": {},
   "outputs": [],
   "source": [
    "# Libraries laden\n",
    "import requests\n",
    "from bs4 import BeautifulSoup\n",
    "import pandas as pd\n",
    "import datetime"
   ]
  },
  {
   "cell_type": "markdown",
   "metadata": {},
   "source": [
    "Einzelne Seiten zu Skigebieten absaugen, Öffnungszeiten abspeichern, bzw. Fehler loggen"
   ]
  },
  {
   "cell_type": "code",
   "execution_count": 16,
   "metadata": {},
   "outputs": [
    {
     "name": "stdout",
     "output_type": "stream",
     "text": [
      "/sedrun/\n"
     ]
    }
   ],
   "source": [
    "path = \"/Users/leasenn/Google Drive/CAS Datenjournalismus/skigebiete/\"\n",
    "linkliste = []\n",
    "df_skigebiete = pd.read_csv(path+\"skigebiete_linkliste.csv\") # Bereits kreierte Liste von Skigebieten verwenden\n",
    "linkliste = df_skigebiete[\"skigebiete\"].values.tolist()\n",
    "\n",
    "skigebiete_final = []\n",
    "errors = []\n",
    "now = datetime.datetime.now()\n",
    "zeitstempel = now.strftime(\"%Y-%m-%d_%H-%M\")\n",
    "\n",
    "for gebiet_link in linkliste[:1]:\n",
    "    print(gebiet_link)\n",
    "    try:\n",
    "        website = requests.get(\"https://www.bergfex.ch\"+gebiet_link).text\n",
    "        soup = BeautifulSoup(website, \"html.parser\")\n",
    "        \n",
    "        # Titel des Skigebiets\n",
    "        '''titel = soup.find('h1')\n",
    "        titel = (titel.text.replace(\"Skigebiet \", \"\"))\n",
    "        print(titel)'''\n",
    "        # Offene Skilifte auslesen\n",
    "        liveangaben = soup.find_all('table', class_=\"schneewerte\")\n",
    "\n",
    "        if len(liveangaben) > 0: # Wenn es überhaupt Live-Angaben hat zum entsprechenden Skigebiet...\n",
    "            for skigebiet in liveangaben:\n",
    "                offenelifte = (skigebiet.find_all('td')[-1].text).split(\" von \") # Auslesen im Format \"12 von 24\" (offene Lifte sind immer das letzte TD, deshalb -1)\n",
    "                total = offenelifte[1].strip()\n",
    "                offen = offenelifte[0].strip()\n",
    "\n",
    "                # Zeitquelle angeben und formatieren, für \"Heute\" und \"Gestern\" richtiges Datum einsetzen...\n",
    "                aktualisiertam = skigebiet.find_all('td')[0].text.replace(\"Heute\", now.strftime(\"%d.%m.%Y\")).replace(\"Gestern\", (now-datetime.timedelta(days=1)).strftime(\"%d.%m.%Y\"))\n",
    "                # bzw. für \"Mo\", \"Di\" und Co. Buchstaben rausnehmen und Jahreszahl anhängen\n",
    "                tage = [\"Mo\", \"Di\", \"Mi\", \"Do\", \"Fr\", \"Sa\", \"So\"]\n",
    "                for tag in tage:\n",
    "                    if(tag in aktualisiertam):\n",
    "                        teile_datum = aktualisiertam.replace(tag,\"\").split(\", \")\n",
    "                        aktualisiertam = teile_datum[1]+now.strftime(\"%Y\")+\", \"+teile_datum[2]\n",
    "\n",
    "                skigebiete_final.append({\"zeit_scraping\": zeitstempel, \"zeit_siteaktualisiert\": aktualisiertam, \"titel\": gebiet_link, \"totallifte\": total, \"offen\": offen})\n",
    "    except:\n",
    "        errors.append({\"status\": \"failed\", \"gebiet\": gebiet_link, \"zeitstempel\" : zeitstempel})\n"
   ]
  },
  {
   "cell_type": "code",
   "execution_count": 14,
   "metadata": {},
   "outputs": [
    {
     "name": "stdout",
     "output_type": "stream",
     "text": [
      "[]\n"
     ]
    }
   ],
   "source": [
    "print(skigebiete_final)"
   ]
  },
  {
   "cell_type": "markdown",
   "metadata": {},
   "source": [
    "Alles abspeichern"
   ]
  },
  {
   "cell_type": "code",
   "execution_count": 6,
   "metadata": {},
   "outputs": [],
   "source": [
    "pd.DataFrame(skigebiete_final).to_csv(path+'skigebiete_oeffnungszeiten/oeffnungszeiten_'+zeitstempel+\".csv\")\n",
    "pd.DataFrame(errors).to_csv(path+'skigebiete_oeffnungszeiten/errors_'+zeitstempel+\".csv\")"
   ]
  },
  {
   "cell_type": "code",
   "execution_count": null,
   "metadata": {},
   "outputs": [],
   "source": []
  }
 ],
 "metadata": {
  "kernelspec": {
   "display_name": "Python 3",
   "language": "python",
   "name": "python3"
  },
  "language_info": {
   "codemirror_mode": {
    "name": "ipython",
    "version": 3
   },
   "file_extension": ".py",
   "mimetype": "text/x-python",
   "name": "python",
   "nbconvert_exporter": "python",
   "pygments_lexer": "ipython3",
   "version": "3.7.0"
  }
 },
 "nbformat": 4,
 "nbformat_minor": 2
}
