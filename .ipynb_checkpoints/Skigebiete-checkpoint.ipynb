{
 "cells": [
  {
   "cell_type": "markdown",
   "metadata": {},
   "source": [
    "## Skigebiete scrapen"
   ]
  },
  {
   "cell_type": "code",
   "execution_count": 3,
   "metadata": {},
   "outputs": [],
   "source": [
    "# Libraries laden\n",
    "import requests\n",
    "from bs4 import BeautifulSoup\n",
    "import pandas as pd\n",
    "import datetime"
   ]
  },
  {
   "cell_type": "markdown",
   "metadata": {},
   "source": [
    "Einzelne Seiten zu Skigebieten absaugen, Öffnungszeiten abspeichern, bzw. Fehler loggen"
   ]
  },
  {
   "cell_type": "code",
   "execution_count": 4,
   "metadata": {},
   "outputs": [],
   "source": [
    "linkliste = []\n",
    "df_skigebiete = pd.read_csv(\"skigebiete_linkliste.csv\")\n",
    "linkliste = df_skigebiete[\"skigebiete\"].values.tolist()\n",
    "\n",
    "skigebiete_final = []\n",
    "errors = []\n",
    "for gebiet_link in linkliste:\n",
    "    website = requests.get(\"https://www.bergfex.ch\"+gebiet_link).text\n",
    "    soup = BeautifulSoup(website, \"html.parser\")\n",
    "\n",
    "    # Titel des Skigebiets\n",
    "    titel = soup.find('h1', {\"class\": \"has-sup\"})\n",
    "    titel = (titel.text.replace(\"Skigebiet \", \"\"))\n",
    "    # Offene Skilifte auslesen\n",
    "    liveangaben = soup.find_all('table', class_=\"schneewerte\")\n",
    "    \n",
    "    now = datetime.datetime.now()\n",
    "    zeitstempel = now.strftime(\"%Y-%m-%d_%H-%M\")\n",
    "    \n",
    "    if len(liveangaben) > 0:\n",
    "        for skigebiet in liveangaben:\n",
    "            offenelifte = (skigebiet.find_all('td')[-1].text).split(\" von \") # Auslesen im Format \"12 von 24\" (offene Lifte sind immer das letzte TD, deshalb -1)\n",
    "            total = offenelifte[1].strip()\n",
    "            offen = offenelifte[0].strip()\n",
    "            \n",
    "            # Zeitquelle angeben\n",
    "            aktualisiertam = skigebiet.find_all('td')[0].text.replace(\"Heute\", now.strftime(\"%d.%m.%Y\")).replace(\"Gestern\", (now-datetime.timedelta(days=1)).strftime(\"%d.%m.%Y\"))\n",
    "            \n",
    "            skigebiete_final.append({\"zeit_scraping\": zeitstempel, \"zeit_siteaktualisiert\": aktualisiertam, \"titel\": titel, \"totallifte\": total, \"offen\": offen})\n",
    "    else:\n",
    "        errors.append(\"Keine Liveangaben gefunden für \"+gebiet_link+\" (\"+zeitstempel+\")\")\n"
   ]
  },
  {
   "cell_type": "markdown",
   "metadata": {},
   "source": [
    "Alles abspeichern"
   ]
  },
  {
   "cell_type": "code",
   "execution_count": 5,
   "metadata": {},
   "outputs": [],
   "source": [
    "pd.DataFrame(skigebiete_final).to_csv('skigebiete_oeffnungszeiten/oeffnungszeiten_'+zeitstempel+\".csv\")\n",
    "pd.DataFrame(errors).to_csv('skigebiete_oeffnungszeiten/errors_'+zeitstempel+\".csv\")"
   ]
  },
  {
   "cell_type": "code",
   "execution_count": null,
   "metadata": {},
   "outputs": [],
   "source": []
  }
 ],
 "metadata": {
  "kernelspec": {
   "display_name": "Python 3",
   "language": "python",
   "name": "python3"
  },
  "language_info": {
   "codemirror_mode": {
    "name": "ipython",
    "version": 3
   },
   "file_extension": ".py",
   "mimetype": "text/x-python",
   "name": "python",
   "nbconvert_exporter": "python",
   "pygments_lexer": "ipython3",
   "version": "3.7.0"
  }
 },
 "nbformat": 4,
 "nbformat_minor": 2
}
